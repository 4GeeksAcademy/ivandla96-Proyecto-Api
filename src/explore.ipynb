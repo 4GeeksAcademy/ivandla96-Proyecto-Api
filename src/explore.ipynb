{
    "cells": [
        {
            "cell_type": "markdown",
            "metadata": {},
            "source": [
                "# Explore here"
            ]
        },
        {
            "cell_type": "code",
            "execution_count": 2,
            "metadata": {},
            "outputs": [],
            "source": [
                "import os\n",
                "import pandas as pd\n",
                "import matplotlib.pyplot as plt\n",
                "from dotenv import load_dotenv\n",
                "\n",
                "# load the .env file variables\n",
                "load_dotenv()\n",
                "\n",
                "client_id = os.environ.get(\"CLIENT_ID\")\n",
                "client_secret = os.environ.get(\"CLIENT_SECRET\")"
            ]
        },
        {
            "cell_type": "markdown",
            "metadata": {},
            "source": [
                "Iniciar la biblioteca Spotipy"
            ]
        },
        {
            "cell_type": "code",
            "execution_count": 3,
            "metadata": {},
            "outputs": [],
            "source": [
                "import spotipy\n",
                "from spotipy.oauth2 import SpotifyClientCredentials\n",
                "\n",
                "auth_manager = SpotifyClientCredentials(client_id=client_id, client_secret=client_secret)\n",
                "spotify = spotipy.Spotify(auth_manager=auth_manager)"
            ]
        },
        {
            "cell_type": "markdown",
            "metadata": {},
            "source": [
                "Realizar solicitudes a la API"
            ]
        },
        {
            "cell_type": "code",
            "execution_count": 4,
            "metadata": {},
            "outputs": [],
            "source": [
                "artist_id = \"0Q8NcsJwoCbZOHHW63su5S\"\n",
                "\n",
                "results = spotify.artist_top_tracks(artist_id)\n",
                "\n",
                "songs = []\n",
                "for track in results['tracks']:\n",
                "    songs.append({\n",
                "        \"name\": track[\"name\"],\n",
                "        \"popularity\": track[\"popularity\"],\n",
                "        \"duration_min\": track[\"duration_ms\"] / 60000\n",
                "    })"
            ]
        },
        {
            "cell_type": "markdown",
            "metadata": {},
            "source": [
                "Transformar a Pandas DataFrame"
            ]
        },
        {
            "cell_type": "code",
            "execution_count": 13,
            "metadata": {},
            "outputs": [
                {
                    "name": "stdout",
                    "output_type": "stream",
                    "text": [
                        "                name  popularity  duration_min\n",
                        "0              DROGA          85      3.710433\n",
                        "1             AURORA          85      3.214217\n",
                        "2  DETRÁS DE TU ALMA          85      3.950000\n",
                        "3       MÁS QUE ALGO          82      4.038433\n",
                        "4        LA INOCENTE          82      3.369550\n"
                    ]
                }
            ],
            "source": [
                "songs_df = pd.DataFrame(songs)\n",
                "\n",
                "print(songs_df.head(5))"
            ]
        },
        {
            "cell_type": "markdown",
            "metadata": {},
            "source": [
                "Analizar la relación estadística"
            ]
        },
        {
            "cell_type": "code",
            "execution_count": 14,
            "metadata": {},
            "outputs": [
                {
                    "data": {
                        "image/png": "[encoded data removed]",
                        "text/plain": [
                            "<Figure size 640x480 with 1 Axes>"
                        ]
                    },
                    "metadata": {},
                    "output_type": "display_data"
                }
            ],
            "source": [
                "plt.scatter(songs_df['duration_min'], songs_df['popularity'])\n",
                "plt.xlabel('Duration (minutes)')\n",
                "plt.ylabel('Popularity')\n",
                "plt.title('Relationship between duration and popularity')\n",
                "plt.show()"
            ]
        },
        {
            "cell_type": "markdown",
            "metadata": {},
            "source": [
                "Como se puede observar, no guarda ninguna relación la duración de la canción con su popularidad."
            ]
        }
    ],
    "metadata": {
        "kernelspec": {
            "display_name": "Python 3",
            "language": "python",
            "name": "python3"
        },
        "language_info": {
            "codemirror_mode": {
                "name": "ipython",
                "version": 3
            },
            "file_extension": ".py",
            "mimetype": "text/x-python",
            "name": "python",
            "nbconvert_exporter": "python",
            "pygments_lexer": "ipython3",
            "version": "3.11.4"
        },
        "orig_nbformat": 4
    },
    "nbformat": 4,
    "nbformat_minor": 2
}
